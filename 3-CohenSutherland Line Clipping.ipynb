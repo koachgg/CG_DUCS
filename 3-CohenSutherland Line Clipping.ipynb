{
 "cells": [
  {
   "cell_type": "code",
   "execution_count": 3,
   "id": "e1d6ff56",
   "metadata": {},
   "outputs": [],
   "source": [
    "def cohen_sutherland(x1, y1, x2, y2, xmin, ymin, xmax, ymax):\n",
    "    # Compute the region codes for the two endpoints\n",
    "    code1 = compute_region_code(x1, y1, xmin, ymin, xmax, ymax)\n",
    "    code2 = compute_region_code(x2, y2, xmin, ymin, xmax, ymax)\n",
    "\n",
    "    # The line is completely inside the clipping rectangle\n",
    "    if code1 == 0 and code2 == 0:\n",
    "        return x1, y1, x2, y2\n",
    "\n",
    "    # The line is completely outside the clipping rectangle\n",
    "    if code1 & code2 != 0:\n",
    "        return None\n",
    "\n",
    "    # Calculate the intersection point\n",
    "    code_out = code1 if code1 != 0 else code2\n",
    "    if code_out & TOP:\n",
    "        x = x1 + (x2 - x1) * (ymax - y1) / (y2 - y1)\n",
    "        y = ymax\n",
    "    elif code_out & BOTTOM:\n",
    "        x = x1 + (x2 - x1) * (ymin - y1) / (y2 - y1)\n",
    "        y = ymin\n",
    "    elif code_out & RIGHT:\n",
    "        y = y1 + (y2 - y1) * (xmax - x1) / (x2 - x1)\n",
    "        x = xmax\n",
    "    elif code_out & LEFT:\n",
    "        y = y1 + (y2 - y1) * (xmin - x1) / (x2 - x1)\n",
    "        x = xmin\n",
    "        \n",
    "        # Update the endpoint of the line\n",
    "    if code_out == code1:\n",
    "        x1, y1 = x, y\n",
    "    else:\n",
    "        x2, y2 = x, y\n",
    "\n",
    "    # Recursively clip the line\n",
    "    return cohen_sutherland(x1, y1, x2, y2, xmin, ymin, xmax, ymax)\n",
    "\n",
    "\n",
    "def compute_region_code(x, y, xmin, ymin, xmax, ymax):\n",
    "    code = INSIDE\n",
    "    if x < xmin:\n",
    "        code |= LEFT\n",
    "    elif x > xmax:\n",
    "        code |= RIGHT\n",
    "    if y < ymin:\n",
    "        code |= BOTTOM\n",
    "    elif y > ymax:\n",
    "        code |= TOP\n",
    "    return code\n",
    "\n",
    "\n",
    "# Region codes\n",
    "INSIDE = 0  # 0000\n",
    "LEFT = 1    # 0001\n",
    "RIGHT = 2   # 0010\n",
    "BOTTOM = 4  # 0100\n",
    "TOP = 8     # 1000"
   ]
  },
  {
   "cell_type": "code",
   "execution_count": 4,
   "id": "12324a76",
   "metadata": {},
   "outputs": [
    {
     "data": {
      "text/plain": [
       "(20.0, 20, 60.0, 60)"
      ]
     },
     "execution_count": 4,
     "metadata": {},
     "output_type": "execute_result"
    }
   ],
   "source": [
    "cohen_sutherland(10, 10, 80, 80, 20, 20, 60, 60)"
   ]
  },
  {
   "cell_type": "code",
   "execution_count": 5,
   "id": "0c8d7d3f",
   "metadata": {},
   "outputs": [
    {
     "data": {
      "image/png": "[encoded data removed]",
      "text/plain": [
       "<Figure size 432x288 with 1 Axes>"
      ]
     },
     "metadata": {
      "needs_background": "light"
     },
     "output_type": "display_data"
    }
   ],
   "source": [
    "import matplotlib.pyplot as plt\n",
    "\n",
    "def plot_clipped_line(x1, y1, x2, y2, xmin, ymin, xmax, ymax):\n",
    "    # Clip the line segment using Cohen-Sutherland algorithm\n",
    "    clipped_points = cohen_sutherland(x1, y1, x2, y2, xmin, ymin, xmax, ymax)\n",
    "\n",
    "    # Plot the original line\n",
    "    plt.plot([x1, x2], [y1, y2], 'b', label='Original Line')\n",
    "\n",
    "    # Plot the clipped line\n",
    "    if clipped_points is not None:\n",
    "        clipped_x1, clipped_y1, clipped_x2, clipped_y2 = clipped_points\n",
    "        plt.plot([clipped_x1, clipped_x2], [clipped_y1, clipped_y2], 'r', label='Clipped Line')\n",
    "\n",
    "    # Set the axis limits and labels\n",
    "    plt.xlim([xmin-10, xmax+10])\n",
    "    plt.ylim([ymin-10, ymax+10])\n",
    "    plt.xlabel('X')\n",
    "    plt.ylabel('Y')\n",
    "\n",
    "    # Add legend and show the plot\n",
    "    plt.legend()\n",
    "    plt.show()\n",
    "\n",
    "# Example usage\n",
    "x1, y1, x2, y2 = 50, 30, 120, 80\n",
    "xmin, ymin, xmax, ymax = 60, 40, 100, 60\n",
    "plot_clipped_line(x1, y1, x2, y2, xmin, ymin, xmax, ymax)\n"
   ]
  },
  {
   "cell_type": "code",
   "execution_count": null,
   "id": "fb31cb0c",
   "metadata": {},
   "outputs": [],
   "source": []
  }
 ],
 "metadata": {
  "kernelspec": {
   "display_name": "Python 3 (ipykernel)",
   "language": "python",
   "name": "python3"
  },
  "language_info": {
   "codemirror_mode": {
    "name": "ipython",
    "version": 3
   },
   "file_extension": ".py",
   "mimetype": "text/x-python",
   "name": "python",
   "nbconvert_exporter": "python",
   "pygments_lexer": "ipython3",
   "version": "3.9.12"
  }
 },
 "nbformat": 4,
 "nbformat_minor": 5
}
