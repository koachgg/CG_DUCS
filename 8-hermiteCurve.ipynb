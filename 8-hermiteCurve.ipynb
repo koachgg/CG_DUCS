{
 "cells": [
  {
   "cell_type": "code",
   "execution_count": 1,
   "id": "ea5bdf99",
   "metadata": {},
   "outputs": [
    {
     "data": {
      "image/png": "[encoded data removed]",
      "text/plain": [
       "<Figure size 432x288 with 1 Axes>"
      ]
     },
     "metadata": {
      "needs_background": "light"
     },
     "output_type": "display_data"
    }
   ],
   "source": [
    "import numpy as np\n",
    "import matplotlib.pyplot as plt\n",
    "\n",
    "def hermite_curve(P0, P1, P2, P3):\n",
    "    #\n",
    "    def H1(t):\n",
    "        return 2*t**3 - 3*t**2 + 1\n",
    "    \n",
    "    def H2(t):\n",
    "        return -2*t**3 + 3*t**2\n",
    "    \n",
    "    def H3(t):\n",
    "        return t**3 - 2*t**2 + t\n",
    "    \n",
    "    def H4(t):\n",
    "        return t**3 - t**2\n",
    "\n",
    "    # Create a range of values for t\n",
    "    t_values = np.linspace(0.0, 1.0, 100)\n",
    "\n",
    "    # Evaluate the Hermite curve function for each value of t\n",
    "    curve_points = np.array([P0 * H1(t) + P3 * H2(t) + P1 * H3(t) + P2 * H4(t)\n",
    "                             for t in t_values])\n",
    "\n",
    "    # Plot the Hermite curve\n",
    "    plt.plot(curve_points[:,0], curve_points[:,1], 'b-', label='Hermite Curve')\n",
    "    \n",
    "    plt.plot([P0[0], P1[0]], [P0[1], P1[1]], 'ro-', label='Control Points')\n",
    "    plt.plot([P2[0], P3[0]], [P2[1], P3[1]], 'ro-')\n",
    "    plt.legend()\n",
    "    plt.show()\n",
    "\n",
    "# Example usage:\n",
    "P0 = np.array([1, 1])\n",
    "P1 = np.array([1, 2])\n",
    "P2 = np.array([3, 4])\n",
    "P3 = np.array([5, 3])\n",
    "hermite_curve(P0, P1, P2, P3)\n"
   ]
  },
  {
   "cell_type": "code",
   "execution_count": null,
   "id": "3986f0cd",
   "metadata": {},
   "outputs": [],
   "source": []
  }
 ],
 "metadata": {
  "kernelspec": {
   "display_name": "Python 3 (ipykernel)",
   "language": "python",
   "name": "python3"
  },
  "language_info": {
   "codemirror_mode": {
    "name": "ipython",
    "version": 3
   },
   "file_extension": ".py",
   "mimetype": "text/x-python",
   "name": "python",
   "nbconvert_exporter": "python",
   "pygments_lexer": "ipython3",
   "version": "3.10.8"
  }
 },
 "nbformat": 4,
 "nbformat_minor": 5
}
