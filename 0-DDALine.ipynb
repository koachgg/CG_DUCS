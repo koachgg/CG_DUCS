{
 "cells": [
  {
   "cell_type": "code",
   "execution_count": 1,
   "id": "c1591aec",
   "metadata": {},
   "outputs": [
    {
     "data": {
      "image/png": "[encoded data removed]",
      "text/plain": [
       "<Figure size 432x288 with 1 Axes>"
      ]
     },
     "metadata": {
      "needs_background": "light"
     },
     "output_type": "display_data"
    }
   ],
   "source": [
    "import matplotlib.pyplot as plt\n",
    "\n",
    "def dda(x1, y1, x2, y2):\n",
    "    dx = x2 - x1\n",
    "    dy = y2 - y1\n",
    "    steps = max(abs(dx), abs(dy))\n",
    "    x_inc = dx / steps\n",
    "    y_inc = dy / steps\n",
    "    x = x1\n",
    "    y = y1\n",
    "    points = []\n",
    "    for i in range(int(steps) + 1):\n",
    "        points.append((x, y))\n",
    "        x += x_inc\n",
    "        y += y_inc\n",
    "    return points\n",
    "\n",
    "# Test the DDA line drawing algorithm\n",
    "x1, y1, x2, y2 = 0, 0, 10, 5\n",
    "points = dda(x1, y1, x2, y2)\n",
    "\n",
    "# Plot the line\n",
    "x_values = [point[0] for point in points]\n",
    "y_values = [point[1] for point in points]\n",
    "plt.plot(x_values, y_values, 'b-')\n",
    "plt.show()\n"
   ]
  },
  {
   "cell_type": "code",
   "execution_count": null,
   "id": "f45ceea0",
   "metadata": {},
   "outputs": [],
   "source": []
  }
 ],
 "metadata": {
  "kernelspec": {
   "display_name": "Python 3 (ipykernel)",
   "language": "python",
   "name": "python3"
  },
  "language_info": {
   "codemirror_mode": {
    "name": "ipython",
    "version": 3
   },
   "file_extension": ".py",
   "mimetype": "text/x-python",
   "name": "python",
   "nbconvert_exporter": "python",
   "pygments_lexer": "ipython3",
   "version": "3.10.8"
  }
 },
 "nbformat": 4,
 "nbformat_minor": 5
}
