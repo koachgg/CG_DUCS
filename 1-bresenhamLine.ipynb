{
 "cells": [
  {
   "cell_type": "code",
   "execution_count": 10,
   "id": "e98fa627",
   "metadata": {},
   "outputs": [
    {
     "name": "stdout",
     "output_type": "stream",
     "text": [
      "Enter the Starting point of x: 1\n",
      "Enter the Starting point of y: 1\n",
      "Enter the end point of x: 2\n",
      "Enter the end point of y: 2\n",
      "x = 1, y = 1\n",
      "x = 2, y = 2\n"
     ]
    },
    {
     "data": {
      "image/png": "[encoded data removed]",
      "text/plain": [
       "<Figure size 432x288 with 1 Axes>"
      ]
     },
     "metadata": {
      "needs_background": "light"
     },
     "output_type": "display_data"
    }
   ],
   "source": [
    "import matplotlib.pyplot as plt\n",
    "plt.title(\"Bresenham Algorithm\")\n",
    "plt.xlabel(\"X Axis\")\n",
    "plt.ylabel(\"Y Axis\")\n",
    "\n",
    "def bres(x1,y1,x2,y2):\n",
    "    x,y = x1,y1\n",
    "    dx = abs(x2 - x1)\n",
    "    dy = abs(y2 -y1)\n",
    "    gradient = dy/float(dx)\n",
    "\n",
    "    if gradient > 1:\n",
    "        dx, dy = dy, dx\n",
    "        x, y = y, x\n",
    "        x1, y1 = y1, x1\n",
    "        x2, y2 = y2, x2\n",
    "\n",
    "    p = 2*dy - dx\n",
    "    print(f\"x = {x}, y = {y}\")\n",
    "    # Initialize the plotting points\n",
    "    xcoordinates = [x]\n",
    "    ycoordinates = [y]\n",
    "\n",
    "    for k in range(2, dx + 2):\n",
    "        if p > 0:\n",
    "            y = y + 1 if y < y2 else y - 1\n",
    "            p = p + 2 * (dy - dx)\n",
    "        else:\n",
    "            p = p + 2 * dy\n",
    "\n",
    "        x = x + 1 if x < x2 else x - 1\n",
    "\n",
    "        print(f\"x = {x}, y = {y}\")\n",
    "        xcoordinates.append(x)\n",
    "        ycoordinates.append(y)\n",
    "\n",
    "    plt.plot(xcoordinates, ycoordinates)\n",
    "    plt.show()\n",
    "\n",
    "\n",
    "def main():\n",
    "    x1 = int(input(\"Enter the Starting point of x: \"))\n",
    "    y1 = int(input(\"Enter the Starting point of y: \"))\n",
    "    x2 = int(input(\"Enter the end point of x: \"))\n",
    "    y2 = int(input(\"Enter the end point of y: \"))\n",
    "\n",
    "    bres(x1, y1, x2, y2)\n",
    "\n",
    "if __name__ == \"__main__\":\n",
    "   main()"
   ]
  },
  {
   "cell_type": "code",
   "execution_count": null,
   "id": "c18eb329",
   "metadata": {},
   "outputs": [],
   "source": []
  }
 ],
 "metadata": {
  "kernelspec": {
   "display_name": "Python 3 (ipykernel)",
   "language": "python",
   "name": "python3"
  },
  "language_info": {
   "codemirror_mode": {
    "name": "ipython",
    "version": 3
   },
   "file_extension": ".py",
   "mimetype": "text/x-python",
   "name": "python",
   "nbconvert_exporter": "python",
   "pygments_lexer": "ipython3",
   "version": "3.10.8"
  }
 },
 "nbformat": 4,
 "nbformat_minor": 5
}
